{
 "cells": [
  {
   "cell_type": "code",
   "execution_count": 69,
   "metadata": {
    "collapsed": true
   },
   "outputs": [],
   "source": [
    "import json\n",
    "tk_json_content_json = r\"D:\\ProgramFiles\\VideoDesign\\Jianying\\JianyingPro Drafts\\4月19日 (1)\\draft_content.json\"\n",
    "json_content_data = None  # 读取的json文本的内容\n",
    "with open(tk_json_content_json,encoding='utf-8' ) as f:\n",
    "    json_content_data = json.load(f)\n",
    "\n"
   ]
  },
  {
   "cell_type": "code",
   "execution_count": 70,
   "outputs": [],
   "source": [
    "# may be in need in future\n",
    "json_content_data['last_modified_platform']\n",
    "whole_ticks = [] # 所有操作集合"
   ],
   "metadata": {
    "collapsed": false
   }
  },
  {
   "cell_type": "code",
   "execution_count": 71,
   "outputs": [],
   "source": [
    "# materials\n",
    "content_materials = json_content_data['materials']\n",
    "\n",
    "# canvases ???"
   ],
   "metadata": {
    "collapsed": false
   }
  },
  {
   "cell_type": "code",
   "execution_count": 72,
   "outputs": [
    {
     "name": "stdout",
     "output_type": "stream",
     "text": [
      "D6A8442A-6083-408b-B7C0-19D7F2E5A962\n",
      "2D2017AB-185C-49ca-BB93-5388116E6124\n",
      "08354527-A9D0-4345-B7F3-3432B0E0CF41\n",
      "588F457B-079B-4e68-9E4F-352C850D1578\n",
      "B57F1062-B809-4f67-AB3A-B7F02AA4AEFC\n",
      "17BFC7D7-4436-40e7-BCDF-7765FBB2B045\n"
     ]
    }
   ],
   "source": [
    "# 滤镜效果\n",
    "effects_assembly = content_materials['effects']\n",
    "whole_ticks.extend(effects_assembly)\n",
    "for effect in effects_assembly:\n",
    "    effect_id = effect['id']\n",
    "    print(effect_id)"
   ],
   "metadata": {
    "collapsed": false
   }
  },
  {
   "cell_type": "code",
   "execution_count": 56,
   "outputs": [
    {
     "name": "stdout",
     "output_type": "stream",
     "text": [
      "4AB2077A-32C5-4945-BF47-FBDBF295448B\n"
     ]
    }
   ],
   "source": [
    "# sticker\n",
    "stickers_assembly = content_materials['stickers']\n",
    "whole_ticks.extend(stickers_assembly)\n",
    "for sticker in stickers_assembly:\n",
    "    sticker_id = sticker['id']\n",
    "    print(sticker_id)"
   ],
   "metadata": {
    "collapsed": false
   }
  },
  {
   "cell_type": "code",
   "execution_count": 57,
   "outputs": [
    {
     "name": "stdout",
     "output_type": "stream",
     "text": [
      "86E7E2C1-405C-45da-A60D-11266618FCB1\n",
      "4E6436BC-AB73-4eb2-82EF-7A6A0B4CFCA7\n"
     ]
    }
   ],
   "source": [
    "# videos\n",
    "videos_assembly = content_materials['videos']\n",
    "whole_ticks.extend(videos_assembly)\n",
    "for sticker in videos_assembly:\n",
    "    sticker_id = sticker['id']\n",
    "    print(sticker_id)"
   ],
   "metadata": {
    "collapsed": false
   }
  },
  {
   "cell_type": "code",
   "execution_count": 58,
   "outputs": [
    {
     "name": "stdout",
     "output_type": "stream",
     "text": [
      "33A67A87-16AC-44f6-AFD2-2280C0DF8D1D\n",
      "A73E9D2C-7713-42e0-80F4-437760DEEC2E\n"
     ]
    }
   ],
   "source": [
    "# videos special effects\n",
    "video_effects = content_materials['video_effects']\n",
    "whole_ticks.extend(video_effects)\n",
    "for sticker in video_effects:\n",
    "    sticker_id = sticker['id']\n",
    "    print(sticker_id)"
   ],
   "metadata": {
    "collapsed": false
   }
  },
  {
   "cell_type": "code",
   "execution_count": 61,
   "outputs": [],
   "source": [
    "def search_based_id(key_id, whole_list):\n",
    "    for element in whole_list:\n",
    "        if element['id'] == key_id:\n",
    "            print('success')"
   ],
   "metadata": {
    "collapsed": false
   }
  },
  {
   "cell_type": "code",
   "execution_count": 64,
   "outputs": [
    {
     "name": "stdout",
     "output_type": "stream",
     "text": [
      "13\n",
      "success\n",
      "success\n",
      "success\n",
      "success\n",
      "success\n",
      "success\n",
      "success\n",
      "success\n",
      "success\n",
      "success\n",
      "success\n",
      "success\n"
     ]
    }
   ],
   "source": [
    "tracks_assembly = json_content_data['tracks']\n",
    "print(len(whole_ticks))\n",
    "for index, track_element in enumerate(tracks_assembly):\n",
    "    this_segment = track_element['segments']\n",
    "    track_id = this_segment[0]['material_id']\n",
    "    search_based_id(track_id,whole_ticks)"
   ],
   "metadata": {
    "collapsed": false
   }
  },
  {
   "cell_type": "code",
   "execution_count": 55,
   "outputs": [
    {
     "data": {
      "text/plain": "'86E7E2C1-405C-45da-A60D-11266618FCB1'"
     },
     "execution_count": 55,
     "metadata": {},
     "output_type": "execute_result"
    }
   ],
   "source": [],
   "metadata": {
    "collapsed": false
   }
  },
  {
   "cell_type": "code",
   "execution_count": null,
   "outputs": [],
   "source": [
    "# speed\n",
    "# effect\n",
    "# album\n",
    "# material_animations\n",
    "# soundZ\n"
   ],
   "metadata": {
    "collapsed": false
   }
  },
  {
   "cell_type": "code",
   "execution_count": null,
   "outputs": [],
   "source": [],
   "metadata": {
    "collapsed": false
   }
  }
 ],
 "metadata": {
  "kernelspec": {
   "display_name": "Python 3",
   "language": "python",
   "name": "python3"
  },
  "language_info": {
   "codemirror_mode": {
    "name": "ipython",
    "version": 2
   },
   "file_extension": ".py",
   "mimetype": "text/x-python",
   "name": "python",
   "nbconvert_exporter": "python",
   "pygments_lexer": "ipython2",
   "version": "2.7.6"
  }
 },
 "nbformat": 4,
 "nbformat_minor": 0
}
