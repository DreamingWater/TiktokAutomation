{
 "cells": [
  {
   "cell_type": "code",
   "execution_count": 60,
   "outputs": [],
   "source": [
    "# 导入python包，并配置部分定量\n",
    "import os\n",
    "import glob\n",
    "from moviepy.editor import VideoFileClip\n",
    "import subprocess\n",
    "import shutil\n",
    "from IPython.display import display, Image\n",
    "WORKING_DIR = r'F:\\VideosCache\\MakingDirs\\InputVideos'\n",
    "OUTPUT_DIR = r'F:\\VideosCache\\MakingDirs\\OutputVideos'\n",
    "MAINVIDEOS_DIR = os.path.join(WORKING_DIR,'Mainvideos')\n",
    "PICTURERESOURCE_DIR = os.path.join(WORKING_DIR,'PictureResource')\n",
    "RUBBISHCACHE_DIR = os.path.join(WORKING_DIR,'RubbishCache')\n",
    "REINDEX_JPG_DIR = os.path.join(RUBBISHCACHE_DIR,'ReIndex_Jpg')   # 重排后的文件存储在这里\n",
    "\n",
    "TARGET_FRAME_NUM = 30 # 目标帧数"
   ],
   "metadata": {
    "collapsed": false
   }
  },
  {
   "cell_type": "code",
   "execution_count": 2,
   "outputs": [],
   "source": [
    "# 获取目录文件夹下所有的视频文件\n",
    "def get_all_videos(file_dir):\n",
    "    videos_files = []\n",
    "    videos_suffixs = ['avi','MP4','flv','mov','mp4']\n",
    "    for suffix in videos_suffixs:\n",
    "        file = glob.glob(os.path.join(file_dir,'*.%s'%suffix))\n",
    "        if len(file):\n",
    "            videos_files.extend(file)\n",
    "    return videos_files\n",
    "Main_videos = get_all_videos(MAINVIDEOS_DIR) # 获取main videos\n",
    "Picture_resource_videos = get_all_videos(PICTURERESOURCE_DIR) # 获取画中画资源"
   ],
   "metadata": {
    "collapsed": false
   }
  },
  {
   "cell_type": "code",
   "execution_count": 3,
   "outputs": [],
   "source": [
    "# Now begin to deal one video\n",
    "# Are you ready?\n",
    "# 打开视频文件\n",
    "dealing_video = Main_videos[0]\n",
    "clip = VideoFileClip(dealing_video)"
   ],
   "metadata": {
    "collapsed": false
   }
  },
  {
   "cell_type": "code",
   "execution_count": 19,
   "outputs": [],
   "source": [
    "# 截取 前0.1s和后0.1s\n",
    "def subclip_0_1(clip_):\n",
    "    print('截取0.1s前的时长:{:.2f}'.format(clip_.duration))\n",
    "    clip_ = clip_.subclip(0.1,-0.1)\n",
    "    print('截取0.1s后的时长:{:.2f}'.format(clip_.duration))"
   ],
   "metadata": {
    "collapsed": false
   }
  },
  {
   "cell_type": "code",
   "execution_count": 62,
   "outputs": [],
   "source": [
    "# 脚本文件cell\n",
    "# 清空文件夹\n",
    "def clean_dir(dir_path):\n",
    "    files = glob.glob(os.path.join(dir_path,'*'))\n",
    "    for file in files:\n",
    "        if not os.path.isdir(file):\n",
    "            os.remove(file)\n",
    "        else:\n",
    "            clean_dir(file)\n",
    "\n",
    "def regenerate_index(dir_path=RUBBISHCACHE_DIR):\n",
    "    if not os.path.exists(REINDEX_JPG_DIR):\n",
    "        os.makedirs(REINDEX_JPG_DIR)\n",
    "    jpg_png = glob.glob(os.path.join(dir_path,'*.jpg'))\n",
    "    path = sorted(jpg_png, key=lambda name: float(name.split('\\\\')[-1][:-4]))\n",
    "    for index, file in enumerate(path):\n",
    "        refine_index = index + 1   # 从1开始计算\n",
    "        shutil.copy(file, os.path.join(REINDEX_JPG_DIR,'%05d.jpg'%refine_index))  # 可以复制到目录下\n"
   ],
   "metadata": {
    "collapsed": false
   }
  },
  {
   "cell_type": "code",
   "execution_count": 61,
   "outputs": [
    {
     "name": "stdout",
     "output_type": "stream",
     "text": [
      "视频的帧数为30.00\n",
      "command_vcodec:ffmpeg -i F:\\VideosCache\\MakingDirs\\InputVideos\\RubbishCache\\ReIndex_Jpg\\%05d.jpg -r 30 F:\\VideosCache\\MakingDirs\\OutputVideos\\output.mp4\n"
     ]
    }
   ],
   "source": [
    "\n",
    "# use ffmpeg to convert videos to jpgs....\n",
    "def videos_to_jpgs(clip_,frame_number=30):\n",
    "    videos_file = clip_.filename\n",
    "    cmd = 'ffmpeg -i {} -r {} -f image2 {}\\%05d.jpg'.format(videos_file,frame_number,RUBBISHCACHE_DIR)\n",
    "    print(cmd)\n",
    "    # result=subprocess.Popen(cmd,shell=False,stdout=subprocess.PIPE).stdout\n",
    "\n",
    "\n",
    "# 删除部分帧数\n",
    "def delete_some_frame(frame_number=30):\n",
    "    jpgs_files_ = os.path.join(RUBBISHCACHE_DIR,'*.jpg') # jgps的glob文件匹配名\n",
    "    jpgs_files = glob.glob(jpgs_files_)\n",
    "    print('视频提取的图片总数:{}'.format(len(jpgs_files)))\n",
    "    delete_num = len(jpgs_files) // frame_number # 需要删除的图片数量\n",
    "    delete_pics_index = [29*i for i in range(1,delete_num+1)]  # 需要删除图片的indexs\n",
    "    for index in delete_pics_index:\n",
    "        os.remove(jpgs_files[index])\n",
    "    print('succeed to delete the setting frame.')\n",
    "    print('视频抽除之后的图片总数:{}'.format(len(glob.glob(jpgs_files_))))\n",
    "\n",
    "# 图片帧拼接为视频\n",
    "def frame_splicing(jpgs_dir=REINDEX_JPG_DIR,target_video_name='output.mp4',frame_number=30):\n",
    "    target_video = os.path.join(OUTPUT_DIR,target_video_name)\n",
    "    jpgs_file = os.path.join(jpgs_dir,'%05d.jpg')\n",
    "    # command = 'ffmpeg -i ./data/cat-girl/%05d.jpg -vcodec mpeg4 -r 30 testavi.avi'\n",
    "    command = 'ffmpeg -i {} -r {} {}'.format(jpgs_file,frame_number,target_video)\n",
    "    command_vcodec = 'ffmpeg -i {} -vcodec mpeg4 -r {} {}'.format(jpgs_file,frame_number,target_video)\n",
    "    print('command_vcodec:{}'.format(command))\n",
    "    subprocess.run(command_vcodec)\n",
    "\n",
    "\n",
    "def frame_extraction(clip_,frame_number=30):\n",
    "    print('视频的帧数为{:.2f}'.format(clip_.fps))\n",
    "    # clean_dir(RUBBISHCACHE_DIR)\n",
    "    # videos_to_jpgs(clip_)    # 将视频抽帧为jpgs\n",
    "    # delete_some_frame()      # 删除部分帧数\n",
    "    frame_splicing()         # 实现帧拼接\n",
    "frame_extraction(clip)\n"
   ],
   "metadata": {
    "collapsed": false
   }
  },
  {
   "cell_type": "code",
   "execution_count": 63,
   "outputs": [],
   "source": [
    "# 重新对图片进行排序\n",
    "regenerate_index()"
   ],
   "metadata": {
    "collapsed": false
   }
  },
  {
   "cell_type": "code",
   "execution_count": 56,
   "outputs": [],
   "source": [
    "# 清空目标文件夹\n",
    "clean_dir(RUBBISHCACHE_DIR)"
   ],
   "metadata": {
    "collapsed": false
   }
  },
  {
   "cell_type": "code",
   "execution_count": 5,
   "outputs": [],
   "source": [
    "# //mp4左右镜像翻转\n",
    "# ffmpeg -i input.mp4 -vf \"hflip\" outut.mp4\n",
    "\n",
    "#//mp4上下镜像翻转\n",
    "# ffmpeg -i input.mp4 -vf \"vflip\" outut.mp4"
   ],
   "metadata": {
    "collapsed": false
   }
  }
 ],
 "metadata": {
  "kernelspec": {
   "display_name": "Python 3",
   "language": "python",
   "name": "python3"
  },
  "language_info": {
   "codemirror_mode": {
    "name": "ipython",
    "version": 2
   },
   "file_extension": ".py",
   "mimetype": "text/x-python",
   "name": "python",
   "nbconvert_exporter": "python",
   "pygments_lexer": "ipython2",
   "version": "2.7.6"
  }
 },
 "nbformat": 4,
 "nbformat_minor": 0
}
